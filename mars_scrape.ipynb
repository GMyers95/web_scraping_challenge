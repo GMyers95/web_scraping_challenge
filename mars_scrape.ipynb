{
 "cells": [
  {
   "cell_type": "code",
   "execution_count": null,
   "id": "caa9ef26-e3ca-42eb-af57-6f777082b770",
   "metadata": {},
   "outputs": [],
   "source": [
    "from bs4 import BeautifulSoup as bs\n",
    "from splinter import Browser\n",
    "import pandas as pd\n",
    "import time\n",
    "from webdriver_manager.chrome import ChromeDriverManager"
   ]
  },
  {
   "cell_type": "code",
   "execution_count": null,
   "id": "44900ace-e28f-44bb-be49-1a95ec2ed03d",
   "metadata": {},
   "outputs": [],
   "source": [
    "executable_path = {\"executable_path\": ChromeDriverManager().install()}\n",
    "\n",
    "browser = Browser(\"chrome\", **executable_path, headless=False)\n",
    "listings = {}\n",
    "url = \"https://redplanetscience.com/\"\n",
    "browser.visit(url)"
   ]
  },
  {
   "cell_type": "code",
   "execution_count": null,
   "id": "8bd6fc49-747b-4dc8-8fcb-462270345ea2",
   "metadata": {
    "tags": []
   },
   "outputs": [],
   "source": [
    "time.sleep(1)\n",
    "html = browser.html\n",
    "soup = bs(html, \"html.parser\")"
   ]
  },
  {
   "cell_type": "code",
   "execution_count": null,
   "id": "f1320c91-23f1-4b53-a097-6a186b95957a",
   "metadata": {},
   "outputs": [],
   "source": [
    "listings[\"headline\"]= soup.find(\"a\", class_=\"content_title\").get_text()"
   ]
  },
  {
   "cell_type": "code",
   "execution_count": null,
   "id": "8a80b8e6-7ac0-441c-9f4d-b93126b2f34d",
   "metadata": {},
   "outputs": [],
   "source": []
  }
 ],
 "metadata": {
  "kernelspec": {
   "display_name": "Python [conda env:PythonData38] *",
   "language": "python",
   "name": "conda-env-PythonData38-py"
  },
  "language_info": {
   "codemirror_mode": {
    "name": "ipython",
    "version": 3
   },
   "file_extension": ".py",
   "mimetype": "text/x-python",
   "name": "python",
   "nbconvert_exporter": "python",
   "pygments_lexer": "ipython3",
   "version": "3.8.13"
  }
 },
 "nbformat": 4,
 "nbformat_minor": 5
}
